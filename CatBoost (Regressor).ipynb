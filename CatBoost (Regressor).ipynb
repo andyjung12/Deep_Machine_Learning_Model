{
 "cells": [
  {
   "cell_type": "markdown",
   "metadata": {},
   "source": [
    "# CatBoost (Regressor)"
   ]
  },
  {
   "cell_type": "markdown",
   "metadata": {},
   "source": [
    "## CatBoost Download"
   ]
  },
  {
   "cell_type": "code",
   "execution_count": null,
   "metadata": {},
   "outputs": [],
   "source": [
    "!pip install catboost"
   ]
  },
  {
   "cell_type": "markdown",
   "metadata": {},
   "source": [
    "## Hyperparameter Tuning using GridSearchCV"
   ]
  },
  {
   "cell_type": "code",
   "execution_count": null,
   "metadata": {},
   "outputs": [],
   "source": [
    "from sklearn.model_selection import GridSearchCV\n",
    "from catboost import CatBoostRegressor\n",
    "\n",
    "CBR = CatBoostRegressor()\n",
    "\n",
    "# Enter the parameter that you want to test\n",
    "parameters = {\n",
    "            'learning_rate': [0.03, 0.05, 0.07],\n",
    "            'depth': [3, 4],\n",
    "            'l2_leaf_reg': [1, 3, 5, 7],\n",
    "            'iterations'    : [900, 1100],\n",
    "            'loss_function' : [\"MAE\"],\n",
    "            'random_seed' : [42]\n",
    "            } \n",
    "\n",
    "# Test all the parameters with the settings above\n",
    "Grid_CBR = GridSearchCV(estimator=CBR, param_grid = parameters, cv = 2, n_jobs=-1)\n",
    "Grid_CBR.fit(x_train, y_train)"
   ]
  },
  {
   "cell_type": "code",
   "execution_count": null,
   "metadata": {},
   "outputs": [],
   "source": [
    "# Results\n",
    "print(\"\\n The best estimator across ALL searched params:\\n\",Grid_CBR.best_estimator_)\n",
    "print(\"\\n The best score across ALL searched params:\\n\",Grid_CBR.best_score_)\n",
    "print(\"\\n The best parameters across ALL searched params:\\n\",Grid_CBR.best_params_)"
   ]
  },
  {
   "cell_type": "markdown",
   "metadata": {},
   "source": [
    "## CatBoost Predict"
   ]
  },
  {
   "cell_type": "code",
   "execution_count": null,
   "metadata": {},
   "outputs": [],
   "source": [
    "# Apply the best parameter in the model and fit => predict\n",
    "CatBoost = CatBoostRegressor(iterations = 1100, depth = 4, learning_rate = 0.05, loss_function = \"MAE\", l2_leaf_reg=7, random_seed = 42)\n",
    "CatBoost.fit(x_train, y_train)\n",
    "CatBoost.predict(x_test)"
   ]
  },
  {
   "cell_type": "markdown",
   "metadata": {},
   "source": [
    "## Hyperparameter Tuning using Optuna"
   ]
  },
  {
   "cell_type": "code",
   "execution_count": null,
   "metadata": {},
   "outputs": [],
   "source": [
    "!pip install optuna"
   ]
  },
  {
   "cell_type": "code",
   "execution_count": null,
   "metadata": {},
   "outputs": [],
   "source": [
    "from catboost import CatBoostRegressor\n",
    "from sklearn.model_selection import train_test_split\n",
    "from sklearn.metrics import mean_squared_error\n",
    "import optuna"
   ]
  },
  {
   "cell_type": "code",
   "execution_count": null,
   "metadata": {},
   "outputs": [],
   "source": [
    "# Setting\n",
    "SAMPLE_RATE = 0.4\n",
    "RANDOM_SEED = 1\n",
    "EARLY_STOPPING_ROUND = 100"
   ]
  },
  {
   "cell_type": "code",
   "execution_count": null,
   "metadata": {},
   "outputs": [],
   "source": [
    "# Train/Test Split (need data preprocessing beforehand)\n",
    "X = train_sample[features]\n",
    "y = train_sample.target\n",
    "X_test = test[features]\n",
    "\n",
    "X_train, X_valid, y_train, y_valid = train_test_split(X, y, test_size=0.2, random_state=RANDOM_SEED)\n",
    "X_train, X_eval, y_train, y_eval = train_test_split(X_train, y_train, test_size=0.1, random_state=RANDOM_SEED)"
   ]
  },
  {
   "cell_type": "code",
   "execution_count": null,
   "metadata": {},
   "outputs": [],
   "source": [
    "# Function for finding best parameter (enter the parameters that needs to be tested)\n",
    "def objective(trial):\n",
    "    param = {}\n",
    "    param['learning_rate'] = trial.suggest_discrete_uniform(\"learning_rate\", 0.01, 0.02, 0.001)\n",
    "    param['depth'] = trial.suggest_int('depth', 7, 9)\n",
    "    param['l2_leaf_reg'] = trial.suggest_discrete_uniform('l2_leaf_reg', 1.0, 5.5, 0.5)\n",
    "    param['min_child_samples'] = trial.suggest_categorical('min_child_samples', [1, 4, 8])\n",
    "    param['grow_policy'] = 'Depthwise'\n",
    "    param['iterations'] = 1000\n",
    "    param['use_best_model'] = True\n",
    "    param['eval_metric'] = 'RMSE'\n",
    "    param['od_type'] = 'iter'\n",
    "    param['od_wait'] = 20\n",
    "    param['random_state'] = RANDOM_SEED\n",
    "    param['logging_level'] = 'Silent'\n",
    "    \n",
    "    regressor = CatBoostRegressor(**param)\n",
    "\n",
    "    regressor.fit(X_train.copy(), y_train.copy(),\n",
    "        eval_set=[(X_eval.copy(), y_eval.copy())],\n",
    "                  early_stopping_rounds=EARLY_STOPPING_ROUND)\n",
    "    loss = mean_squared_error(y_valid, regressor.predict(X_valid.copy()))\n",
    "    return loss"
   ]
  },
  {
   "cell_type": "code",
   "execution_count": null,
   "metadata": {},
   "outputs": [],
   "source": [
    "# Study using Optuna\n",
    "%%time\n",
    "study = optuna.create_study(study_name=f'catboost-seed{RANDOM_SEED}')\n",
    "study.optimize(objective, n_trials=500, n_jobs=-1, timeout=24000)"
   ]
  },
  {
   "cell_type": "code",
   "execution_count": null,
   "metadata": {},
   "outputs": [],
   "source": [
    "# See the best parameter\n",
    "study.best_params"
   ]
  },
  {
   "cell_type": "code",
   "execution_count": null,
   "metadata": {},
   "outputs": [],
   "source": [
    "# Enter the best parameter and run the model\n",
    "%%time\n",
    "optimized_regressor = CatBoostRegressor(learning_rate=study.best_params['learning_rate'],\n",
    "                                        depth=study.best_params['depth'],\n",
    "                                        l2_leaf_reg=study.best_params['l2_leaf_reg'],\n",
    "                                        min_child_samples=study.best_params['min_child_samples'],\n",
    "                                        grow_policy='Depthwise',\n",
    "                                        iterations=10000,\n",
    "                                        use_best_model=True,\n",
    "                                        eval_metric='RMSE',\n",
    "                                        od_type='iter',\n",
    "                                        od_wait=20,\n",
    "                                        random_state=RANDOM_SEED,\n",
    "                                        logging_level='Silent')\n",
    "optimized_regressor.fit(X_train.copy(), y_train.copy(),\n",
    "                        eval_set=[(X_eval.copy(), y_eval.copy())],\n",
    "                        early_stopping_rounds=EARLY_STOPPING_ROUND)\n",
    "pred_train = optimized_regressor.predict(X_train.copy())\n",
    "pred_valid = optimized_regressor.predict(X_valid.copy())"
   ]
  },
  {
   "cell_type": "code",
   "execution_count": null,
   "metadata": {},
   "outputs": [],
   "source": [
    "# Results\n",
    "mean_squared_error(y_train, pred_train)\n",
    "mean_squared_error(y_valid, pred_valid)"
   ]
  }
 ],
 "metadata": {
  "kernelspec": {
   "display_name": "Python 3",
   "language": "python",
   "name": "python3"
  },
  "language_info": {
   "codemirror_mode": {
    "name": "ipython",
    "version": 3
   },
   "file_extension": ".py",
   "mimetype": "text/x-python",
   "name": "python",
   "nbconvert_exporter": "python",
   "pygments_lexer": "ipython3",
   "version": "3.7.9"
  }
 },
 "nbformat": 4,
 "nbformat_minor": 4
}
